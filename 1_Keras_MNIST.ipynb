{
 "cells": [
  {
   "cell_type": "markdown",
   "metadata": {},
   "source": [
    "## Handwritten Image Detection with Keras using MNIST data\n",
    "\n",
    "In this exercise we will work with image data: specifically the famous MNIST data set.  This data set contains 70,000 images of handwritten digits in grayscale (0=black, 255 = white).  The images are 28 pixels by 28 pixels for a total of 784 pixels.  This is quite small by image standards.  Also, the images are well centered and isolated.  This makes this problem solvable with standard fully connected neural nets without too much pre-work."
   ]
  },
  {
   "cell_type": "markdown",
   "metadata": {},
   "source": [
    "In the first part of this notebook, we will walk you through loading in the data, building a network, and training it.  Then it will be your turn to try different models and see if you can improve performance"
   ]
  },
  {
   "cell_type": "code",
   "execution_count": 1,
   "metadata": {},
   "outputs": [
    {
     "name": "stderr",
     "output_type": "stream",
     "text": [
      "Using TensorFlow backend.\n"
     ]
    }
   ],
   "source": [
    "# Preliminaries\n",
    "\n",
    "from __future__ import print_function\n",
    "\n",
    "import keras\n",
    "from keras.datasets import mnist\n",
    "from keras.models import Sequential\n",
    "\n",
    "from keras.layers import Dense, Dropout\n",
    "from keras.optimizers import RMSprop\n",
    "\n",
    "import numpy as np\n",
    "import matplotlib.pyplot as plt\n",
    "%matplotlib inline"
   ]
  },
  {
   "cell_type": "markdown",
   "metadata": {
    "collapsed": true
   },
   "source": [
    "Let's explore the dataset a little bit"
   ]
  },
  {
   "cell_type": "code",
   "execution_count": 2,
   "metadata": {},
   "outputs": [],
   "source": [
    "import os\n",
    "\n",
    "os.environ['KMP_DUPLICATE_LIB_OK']='True'"
   ]
  },
  {
   "cell_type": "code",
   "execution_count": 3,
   "metadata": {},
   "outputs": [],
   "source": [
    "# Load the data, shuffled and split between train and test sets (x_train and y_rain)\n",
    "(x_train, y_train), (x_test, y_test) = mnist.load_data()"
   ]
  },
  {
   "cell_type": "code",
   "execution_count": 4,
   "metadata": {},
   "outputs": [
    {
     "data": {
      "text/plain": [
       "(28, 28)"
      ]
     },
     "execution_count": 4,
     "metadata": {},
     "output_type": "execute_result"
    }
   ],
   "source": [
    "x_train[0].shape"
   ]
  },
  {
   "cell_type": "code",
   "execution_count": 5,
   "metadata": {},
   "outputs": [
    {
     "data": {
      "text/plain": [
       "array([[  0,   0,   0,   0,   0,   0,   0,   0,   0,   0,   0,   0,   0,\n",
       "          0,   0,   0,   0,   0,   0,   0,   0,   0,   0,   0,   0,   0,\n",
       "          0,   0],\n",
       "       [  0,   0,   0,   0,   0,   0,   0,   0,   0,   0,   0,   0,   0,\n",
       "          0,   0,   0,   0,   0,   0,   0,   0,   0,   0,   0,   0,   0,\n",
       "          0,   0],\n",
       "       [  0,   0,   0,   0,   0,   0,   0,   0,   0,   0,   0,   0,   0,\n",
       "          0,   0,   0,   0,   0,   0,   0,   0,   0,   0,   0,   0,   0,\n",
       "          0,   0],\n",
       "       [  0,   0,   0,   0,   0,   0,   0,   0,   0,   0,   0,   0,   0,\n",
       "          0,   0,   0,   0,   0,   0,   0,   0,   0,   0,   0,   0,   0,\n",
       "          0,   0],\n",
       "       [  0,   0,   0,   0,   0,   0,   0,   0,   0,   0,   0,   0,   0,\n",
       "          0,   0,   0,   0,   0,   0,   0,   0,   0,   0,   0,   0,   0,\n",
       "          0,   0],\n",
       "       [  0,   0,   0,   0,   0,   0,   0,   0,   0,   0,   0,  87, 138,\n",
       "        170, 253, 201, 244, 212, 222, 138,  86,  22,   0,   0,   0,   0,\n",
       "          0,   0],\n",
       "       [  0,   0,   0,   0,   0,   0,   0,   0,   0,   0,  95, 253, 252,\n",
       "        252, 252, 252, 253, 252, 252, 252, 252, 245,  80,   0,   0,   0,\n",
       "          0,   0],\n",
       "       [  0,   0,   0,   0,   0,   0,   0,   0,   0,  68, 246, 205,  69,\n",
       "         69,  69,  69,  69,  69,  69,  69, 205, 253, 240,  50,   0,   0,\n",
       "          0,   0],\n",
       "       [  0,   0,   0,   0,   0,   0,   0,   0,   0, 187, 252, 218,  34,\n",
       "          0,   0,   0,   0,   0,   0,   0, 116, 253, 252,  69,   0,   0,\n",
       "          0,   0],\n",
       "       [  0,   0,   0,   0,   0,   0,   0,   0, 116, 248, 252, 253,  92,\n",
       "          0,   0,   0,   0,   0,   0,  95, 230, 253, 157,   6,   0,   0,\n",
       "          0,   0],\n",
       "       [  0,   0,   0,   0,   0,   0,   0,   0, 116, 249, 253, 189,  42,\n",
       "          0,   0,   0,   0,  36, 170, 253, 243, 158,   0,   0,   0,   0,\n",
       "          0,   0],\n",
       "       [  0,   0,   0,   0,   0,   0,   0,   0,   0, 133, 252, 245, 140,\n",
       "         34,   0,   0,  57, 219, 252, 235,  60,   0,   0,   0,   0,   0,\n",
       "          0,   0],\n",
       "       [  0,   0,   0,   0,   0,   0,   0,   0,   0,  25, 205, 253, 252,\n",
       "        234, 184, 184, 253, 240, 100,  44,   0,   0,   0,   0,   0,   0,\n",
       "          0,   0],\n",
       "       [  0,   0,   0,   0,   0,   0,   0,   0,   0,   0,  21, 161, 219,\n",
       "        252, 252, 252, 234,  37,   0,   0,   0,   0,   0,   0,   0,   0,\n",
       "          0,   0],\n",
       "       [  0,   0,   0,   0,   0,   0,   0,   0,   0,   0,   0,  11, 203,\n",
       "        252, 252, 252, 251, 135,   0,   0,   0,   0,   0,   0,   0,   0,\n",
       "          0,   0],\n",
       "       [  0,   0,   0,   0,   0,   0,   0,   0,   0,   9,  76, 255, 253,\n",
       "        205, 168, 220, 255, 253, 137,   5,   0,   0,   0,   0,   0,   0,\n",
       "          0,   0],\n",
       "       [  0,   0,   0,   0,   0,   0,   0,   0,   0, 114, 252, 249, 132,\n",
       "         25,   0,   0, 180, 252, 252,  45,   0,   0,   0,   0,   0,   0,\n",
       "          0,   0],\n",
       "       [  0,   0,   0,   0,   0,   0,   0,   0,  51, 220, 252, 199,   0,\n",
       "          0,   0,   0,  38, 186, 252, 154,   7,   0,   0,   0,   0,   0,\n",
       "          0,   0],\n",
       "       [  0,   0,   0,   0,   0,   0,   0,   0, 184, 252, 252,  21,   0,\n",
       "          0,   0,   0,   0,  67, 252, 252,  22,   0,   0,   0,   0,   0,\n",
       "          0,   0],\n",
       "       [  0,   0,   0,   0,   0,   0,   0,   0, 184, 252, 200,   0,   0,\n",
       "          0,   0,   0,   0,  47, 252, 252,  22,   0,   0,   0,   0,   0,\n",
       "          0,   0],\n",
       "       [  0,   0,   0,   0,   0,   0,   0,   0, 185, 253, 201,   0,   0,\n",
       "          0,   0,   0,   3, 118, 253, 245,  21,   0,   0,   0,   0,   0,\n",
       "          0,   0],\n",
       "       [  0,   0,   0,   0,   0,   0,   0,   0, 163, 252, 252,   0,   0,\n",
       "          0,   0,   0,  97, 252, 252,  87,   0,   0,   0,   0,   0,   0,\n",
       "          0,   0],\n",
       "       [  0,   0,   0,   0,   0,   0,   0,   0,  51, 240, 252, 123,  70,\n",
       "         70, 112, 184, 222, 252, 170,  13,   0,   0,   0,   0,   0,   0,\n",
       "          0,   0],\n",
       "       [  0,   0,   0,   0,   0,   0,   0,   0,   0, 165, 252, 253, 252,\n",
       "        252, 252, 252, 245, 139,  13,   0,   0,   0,   0,   0,   0,   0,\n",
       "          0,   0],\n",
       "       [  0,   0,   0,   0,   0,   0,   0,   0,   0,   9,  75, 253, 252,\n",
       "        221, 137, 137,  21,   0,   0,   0,   0,   0,   0,   0,   0,   0,\n",
       "          0,   0],\n",
       "       [  0,   0,   0,   0,   0,   0,   0,   0,   0,   0,   0,   0,   0,\n",
       "          0,   0,   0,   0,   0,   0,   0,   0,   0,   0,   0,   0,   0,\n",
       "          0,   0],\n",
       "       [  0,   0,   0,   0,   0,   0,   0,   0,   0,   0,   0,   0,   0,\n",
       "          0,   0,   0,   0,   0,   0,   0,   0,   0,   0,   0,   0,   0,\n",
       "          0,   0],\n",
       "       [  0,   0,   0,   0,   0,   0,   0,   0,   0,   0,   0,   0,   0,\n",
       "          0,   0,   0,   0,   0,   0,   0,   0,   0,   0,   0,   0,   0,\n",
       "          0,   0]], dtype=uint8)"
      ]
     },
     "execution_count": 5,
     "metadata": {},
     "output_type": "execute_result"
    }
   ],
   "source": [
    "#Let's just look at a particular example to see what is inside\n",
    "\n",
    "x_train[333]  ## Just a 28 x 28 numpy array of ints from 0 to 255"
   ]
  },
  {
   "cell_type": "code",
   "execution_count": 6,
   "metadata": {},
   "outputs": [
    {
     "data": {
      "text/plain": [
       "8"
      ]
     },
     "execution_count": 6,
     "metadata": {},
     "output_type": "execute_result"
    }
   ],
   "source": [
    "# What is the corresponding label in the training set?\n",
    "y_train[333]"
   ]
  },
  {
   "cell_type": "code",
   "execution_count": 7,
   "metadata": {},
   "outputs": [
    {
     "data": {
      "text/plain": [
       "<matplotlib.image.AxesImage at 0xb3c74b630>"
      ]
     },
     "execution_count": 7,
     "metadata": {},
     "output_type": "execute_result"
    },
    {
     "data": {
      "image/png": "[encoded data removed]",
      "text/plain": [
       "<Figure size 432x288 with 1 Axes>"
      ]
     },
     "metadata": {
      "needs_background": "light"
     },
     "output_type": "display_data"
    }
   ],
   "source": [
    "# Let's see what this image actually looks like\n",
    "\n",
    "plt.imshow(x_train[333], cmap='Greys_r')"
   ]
  },
  {
   "cell_type": "code",
   "execution_count": 8,
   "metadata": {},
   "outputs": [
    {
     "name": "stdout",
     "output_type": "stream",
     "text": [
      "(60000, 28, 28) train samples\n",
      "(10000, 28, 28) test samples\n"
     ]
    }
   ],
   "source": [
    "# this is the shape of the np.array x_train\n",
    "# it is 3 dimensional.\n",
    "print(x_train.shape, 'train samples')\n",
    "print(x_test.shape, 'test samples')"
   ]
  },
  {
   "cell_type": "code",
   "execution_count": 9,
   "metadata": {},
   "outputs": [],
   "source": [
    "## For our purposes, these images are just a vector of 784 inputs, so let's convert\n",
    "x_train = x_train.reshape(len(x_train), 28*28)\n",
    "x_test = x_test.reshape(len(x_test), 28*28)\n",
    "\n",
    "## Keras works with floats, so we must cast the numbers to floats\n",
    "x_train = x_train.astype('float32')\n",
    "x_test = x_test.astype('float32')\n",
    "\n",
    "## Normalize the inputs so they are between 0 and 1\n",
    "x_train /= 255\n",
    "x_test /= 255\n"
   ]
  },
  {
   "cell_type": "code",
   "execution_count": 10,
   "metadata": {},
   "outputs": [
    {
     "data": {
      "text/plain": [
       "array([0., 0., 0., 0., 0., 0., 0., 0., 1., 0.], dtype=float32)"
      ]
     },
     "execution_count": 10,
     "metadata": {},
     "output_type": "execute_result"
    }
   ],
   "source": [
    "# convert class vectors to binary class matrices\n",
    "num_classes = 10\n",
    "y_train = keras.utils.to_categorical(y_train, num_classes)\n",
    "y_test = keras.utils.to_categorical(y_test, num_classes)\n",
    "\n",
    "y_train[333]  # now the digit k is represented by a 1 in the kth entry (0-indexed) of the length 10 vector"
   ]
  },
  {
   "cell_type": "code",
   "execution_count": 11,
   "metadata": {},
   "outputs": [
    {
     "name": "stdout",
     "output_type": "stream",
     "text": [
      "WARNING:tensorflow:From /Users/alexballack13/anaconda3/lib/python3.7/site-packages/tensorflow/python/framework/op_def_library.py:263: colocate_with (from tensorflow.python.framework.ops) is deprecated and will be removed in a future version.\n",
      "Instructions for updating:\n",
      "Colocations handled automatically by placer.\n",
      "WARNING:tensorflow:From /Users/alexballack13/anaconda3/lib/python3.7/site-packages/keras/backend/tensorflow_backend.py:3445: calling dropout (from tensorflow.python.ops.nn_ops) with keep_prob is deprecated and will be removed in a future version.\n",
      "Instructions for updating:\n",
      "Please use `rate` instead of `keep_prob`. Rate should be set to `rate = 1 - keep_prob`.\n"
     ]
    }
   ],
   "source": [
    "# We will build a model with two hidden layers of size 64\n",
    "# Fully connected inputs at each layer\n",
    "# We will use dropout of .2 to help regularize\n",
    "model_1 = Sequential()\n",
    "model_1.add(Dense(64, activation='relu', input_shape=(784,)))\n",
    "model_1.add(Dropout(0.2))\n",
    "model_1.add(Dense(64, activation='relu'))\n",
    "model_1.add(Dropout(0.2))\n",
    "model_1.add(Dense(10, activation='softmax'))"
   ]
  },
  {
   "cell_type": "code",
   "execution_count": 12,
   "metadata": {},
   "outputs": [
    {
     "name": "stdout",
     "output_type": "stream",
     "text": [
      "_________________________________________________________________\n",
      "Layer (type)                 Output Shape              Param #   \n",
      "=================================================================\n",
      "dense_1 (Dense)              (None, 64)                50240     \n",
      "_________________________________________________________________\n",
      "dropout_1 (Dropout)          (None, 64)                0         \n",
      "_________________________________________________________________\n",
      "dense_2 (Dense)              (None, 64)                4160      \n",
      "_________________________________________________________________\n",
      "dropout_2 (Dropout)          (None, 64)                0         \n",
      "_________________________________________________________________\n",
      "dense_3 (Dense)              (None, 10)                650       \n",
      "=================================================================\n",
      "Total params: 55,050\n",
      "Trainable params: 55,050\n",
      "Non-trainable params: 0\n",
      "_________________________________________________________________\n"
     ]
    }
   ],
   "source": [
    "## Note that this model has a LOT of parameters\n",
    "model_1.summary()"
   ]
  },
  {
   "cell_type": "code",
   "execution_count": 13,
   "metadata": {},
   "outputs": [],
   "source": [
    "# Let's compile the model\n",
    "learning_rate = .001\n",
    "model_1.compile(loss='categorical_crossentropy',\n",
    "              optimizer=RMSprop(lr=learning_rate),\n",
    "              metrics=['accuracy'])\n",
    "# note that `categorical cross entropy` is the natural generalization \n",
    "# of the loss function we had in binary classification case, to multi class case"
   ]
  },
  {
   "cell_type": "code",
   "execution_count": 14,
   "metadata": {},
   "outputs": [
    {
     "name": "stdout",
     "output_type": "stream",
     "text": [
      "WARNING:tensorflow:From /Users/alexballack13/anaconda3/lib/python3.7/site-packages/tensorflow/python/ops/math_ops.py:3066: to_int32 (from tensorflow.python.ops.math_ops) is deprecated and will be removed in a future version.\n",
      "Instructions for updating:\n",
      "Use tf.cast instead.\n",
      "Train on 60000 samples, validate on 10000 samples\n",
      "Epoch 1/30\n",
      "60000/60000 [==============================] - 10s 165us/step - loss: 0.5194 - acc: 0.8451 - val_loss: 0.2103 - val_acc: 0.9382\n",
      "Epoch 2/30\n",
      "60000/60000 [==============================] - 8s 126us/step - loss: 0.2618 - acc: 0.9223 - val_loss: 0.1634 - val_acc: 0.9491\n",
      "Epoch 3/30\n",
      "60000/60000 [==============================] - 8s 133us/step - loss: 0.2108 - acc: 0.9373 - val_loss: 0.1273 - val_acc: 0.9614\n",
      "Epoch 4/30\n",
      "60000/60000 [==============================] - 8s 140us/step - loss: 0.1799 - acc: 0.9470 - val_loss: 0.1181 - val_acc: 0.9656\n",
      "Epoch 5/30\n",
      "60000/60000 [==============================] - 8s 129us/step - loss: 0.1622 - acc: 0.9527 - val_loss: 0.1073 - val_acc: 0.9686\n",
      "Epoch 6/30\n",
      "60000/60000 [==============================] - 8s 130us/step - loss: 0.1490 - acc: 0.9557 - val_loss: 0.1084 - val_acc: 0.9687\n",
      "Epoch 7/30\n",
      "60000/60000 [==============================] - 8s 132us/step - loss: 0.1396 - acc: 0.9594 - val_loss: 0.1066 - val_acc: 0.9690\n",
      "Epoch 8/30\n",
      "60000/60000 [==============================] - 7s 124us/step - loss: 0.1298 - acc: 0.9616 - val_loss: 0.0998 - val_acc: 0.9713\n",
      "Epoch 9/30\n",
      "60000/60000 [==============================] - 7s 118us/step - loss: 0.1228 - acc: 0.9645 - val_loss: 0.0951 - val_acc: 0.9727\n",
      "Epoch 10/30\n",
      "60000/60000 [==============================] - 7s 119us/step - loss: 0.1214 - acc: 0.9638 - val_loss: 0.1010 - val_acc: 0.9694\n",
      "Epoch 11/30\n",
      "60000/60000 [==============================] - 8s 141us/step - loss: 0.1165 - acc: 0.9660 - val_loss: 0.0951 - val_acc: 0.9734\n",
      "Epoch 12/30\n",
      "60000/60000 [==============================] - 9s 147us/step - loss: 0.1098 - acc: 0.9674 - val_loss: 0.0921 - val_acc: 0.9744\n",
      "Epoch 13/30\n",
      "60000/60000 [==============================] - 7s 121us/step - loss: 0.1064 - acc: 0.9691 - val_loss: 0.0990 - val_acc: 0.9724\n",
      "Epoch 14/30\n",
      "60000/60000 [==============================] - 7s 119us/step - loss: 0.1035 - acc: 0.9693 - val_loss: 0.0919 - val_acc: 0.9750\n",
      "Epoch 15/30\n",
      "60000/60000 [==============================] - 8s 142us/step - loss: 0.1022 - acc: 0.9705 - val_loss: 0.0935 - val_acc: 0.9754\n",
      "Epoch 16/30\n",
      "60000/60000 [==============================] - 8s 129us/step - loss: 0.0989 - acc: 0.9709 - val_loss: 0.0939 - val_acc: 0.9756\n",
      "Epoch 17/30\n",
      "60000/60000 [==============================] - 9s 147us/step - loss: 0.0948 - acc: 0.9715 - val_loss: 0.0932 - val_acc: 0.9753\n",
      "Epoch 18/30\n",
      "60000/60000 [==============================] - 7s 124us/step - loss: 0.0947 - acc: 0.9724 - val_loss: 0.0912 - val_acc: 0.9768\n",
      "Epoch 19/30\n",
      "60000/60000 [==============================] - 7s 122us/step - loss: 0.0941 - acc: 0.9716 - val_loss: 0.0930 - val_acc: 0.9758\n",
      "Epoch 20/30\n",
      "60000/60000 [==============================] - 8s 133us/step - loss: 0.0908 - acc: 0.9736 - val_loss: 0.0935 - val_acc: 0.9754\n",
      "Epoch 21/30\n",
      "60000/60000 [==============================] - 7s 124us/step - loss: 0.0884 - acc: 0.9746 - val_loss: 0.0947 - val_acc: 0.9759\n",
      "Epoch 22/30\n",
      "60000/60000 [==============================] - 8s 140us/step - loss: 0.0881 - acc: 0.9742 - val_loss: 0.0989 - val_acc: 0.9749\n",
      "Epoch 23/30\n",
      "60000/60000 [==============================] - 10s 166us/step - loss: 0.0893 - acc: 0.9739 - val_loss: 0.0924 - val_acc: 0.9769\n",
      "Epoch 24/30\n",
      "60000/60000 [==============================] - 9s 148us/step - loss: 0.0880 - acc: 0.9741 - val_loss: 0.1028 - val_acc: 0.9755\n",
      "Epoch 25/30\n",
      "60000/60000 [==============================] - 8s 134us/step - loss: 0.0876 - acc: 0.9752 - val_loss: 0.0949 - val_acc: 0.9774\n",
      "Epoch 26/30\n",
      "60000/60000 [==============================] - 7s 119us/step - loss: 0.0836 - acc: 0.9757 - val_loss: 0.0973 - val_acc: 0.9769\n",
      "Epoch 27/30\n",
      "60000/60000 [==============================] - 7s 117us/step - loss: 0.0857 - acc: 0.9752 - val_loss: 0.0965 - val_acc: 0.9759\n",
      "Epoch 28/30\n",
      "60000/60000 [==============================] - 7s 120us/step - loss: 0.0854 - acc: 0.9754 - val_loss: 0.0918 - val_acc: 0.9778\n",
      "Epoch 29/30\n",
      "60000/60000 [==============================] - 7s 118us/step - loss: 0.0830 - acc: 0.9761 - val_loss: 0.0894 - val_acc: 0.9787\n",
      "Epoch 30/30\n",
      "60000/60000 [==============================] - 7s 118us/step - loss: 0.0843 - acc: 0.9757 - val_loss: 0.1019 - val_acc: 0.9751\n"
     ]
    }
   ],
   "source": [
    "# And now let's fit.\n",
    "\n",
    "batch_size = 128  # mini-batch with 128 examples\n",
    "epochs = 30\n",
    "history = model_1.fit(\n",
    "    x_train, y_train,\n",
    "    batch_size=batch_size,\n",
    "    epochs=epochs,\n",
    "    verbose=1,\n",
    "    validation_data=(x_test, y_test))"
   ]
  },
  {
   "cell_type": "code",
   "execution_count": 15,
   "metadata": {},
   "outputs": [
    {
     "name": "stdout",
     "output_type": "stream",
     "text": [
      "Test loss: 0.10188157208789635\n",
      "Test accuracy: 0.9751\n"
     ]
    }
   ],
   "source": [
    "## We will use Keras evaluate function to evaluate performance on the test set\n",
    "\n",
    "score = model_1.evaluate(x_test, y_test, verbose=0)\n",
    "print('Test loss:', score[0])\n",
    "print('Test accuracy:', score[1])"
   ]
  },
  {
   "cell_type": "code",
   "execution_count": 16,
   "metadata": {},
   "outputs": [
    {
     "data": {
      "image/png": "[encoded data removed]",
      "text/plain": [
       "<Figure size 864x432 with 2 Axes>"
      ]
     },
     "metadata": {
      "needs_background": "light"
     },
     "output_type": "display_data"
    }
   ],
   "source": [
    "def plot_loss_accuracy(history):\n",
    "    fig = plt.figure(figsize=(12, 6))\n",
    "    ax = fig.add_subplot(1, 2, 1)\n",
    "    ax.plot(history.history[\"loss\"],'r-x', label=\"Train Loss\")\n",
    "    ax.plot(history.history[\"val_loss\"],'b-x', label=\"Validation Loss\")\n",
    "    ax.legend()\n",
    "    ax.set_title('cross_entropy loss')\n",
    "    ax.grid(True)\n",
    "\n",
    "\n",
    "    ax = fig.add_subplot(1, 2, 2)\n",
    "    ax.plot(history.history[\"acc\"],'r-x', label=\"Train Accuracy\")\n",
    "    ax.plot(history.history[\"val_acc\"],'b-x', label=\"Validation Accuracy\")\n",
    "    ax.legend()\n",
    "    ax.set_title('accuracy')\n",
    "    ax.grid(True)\n",
    "    \n",
    "\n",
    "plot_loss_accuracy(history)"
   ]
  },
  {
   "cell_type": "markdown",
   "metadata": {},
   "source": [
    "This is reasonably good performance, but we can do even better!  Next you will build an even bigger network and compare the performance."
   ]
  },
  {
   "cell_type": "markdown",
   "metadata": {},
   "source": [
    "## Exercise\n",
    "### Your Turn: Build your own model\n",
    "Use the Keras \"Sequential\" functionality to build `model_2` with the following specifications:\n",
    "\n",
    "1. Two hidden layers.\n",
    "2. First hidden layer of size 400 and second of size 300\n",
    "3. Dropout of .4 at each layer\n",
    "4. How many parameters does your model have?  How does it compare with the previous model?\n",
    "4. Train this model for 20 epochs with RMSProp at a learning rate of .001 and a batch size of 128\n",
    "\n",
    "\n"
   ]
  },
  {
   "cell_type": "code",
   "execution_count": 17,
   "metadata": {},
   "outputs": [],
   "source": [
    "### Build your model here\n",
    "\n",
    "# We will build a model with two hidden layers of size 400 and 300\n",
    "# Fully connected inputs at each layer\n",
    "# We will use dropout of .2 to help regularize\n",
    "model_2 = Sequential()\n",
    "model_2.add(Dense(400, activation='relu', input_shape=(784,)))\n",
    "model_2.add(Dropout(0.4))\n",
    "model_2.add(Dense(300, activation='relu'))\n",
    "model_2.add(Dropout(0.4))\n",
    "model_2.add(Dense(10, activation='softmax'))"
   ]
  },
  {
   "cell_type": "code",
   "execution_count": 18,
   "metadata": {},
   "outputs": [],
   "source": [
    "# Let's compile the model\n",
    "learning_rate = .001\n",
    "batch_size = 128  # mini-batch with 128 examples\n",
    "epochs = 20"
   ]
  },
  {
   "cell_type": "code",
   "execution_count": 19,
   "metadata": {},
   "outputs": [],
   "source": [
    "model_2.compile(loss='categorical_crossentropy',\n",
    "              optimizer=RMSprop(lr=learning_rate),\n",
    "              metrics=['accuracy'])"
   ]
  },
  {
   "cell_type": "markdown",
   "metadata": {},
   "source": [
    "## SOLUTION"
   ]
  },
  {
   "cell_type": "code",
   "execution_count": 20,
   "metadata": {},
   "outputs": [
    {
     "name": "stdout",
     "output_type": "stream",
     "text": [
      "_________________________________________________________________\n",
      "Layer (type)                 Output Shape              Param #   \n",
      "=================================================================\n",
      "dense_4 (Dense)              (None, 400)               314000    \n",
      "_________________________________________________________________\n",
      "dropout_3 (Dropout)          (None, 400)               0         \n",
      "_________________________________________________________________\n",
      "dense_5 (Dense)              (None, 300)               120300    \n",
      "_________________________________________________________________\n",
      "dropout_4 (Dropout)          (None, 300)               0         \n",
      "_________________________________________________________________\n",
      "dense_6 (Dense)              (None, 10)                3010      \n",
      "=================================================================\n",
      "Total params: 437,310\n",
      "Trainable params: 437,310\n",
      "Non-trainable params: 0\n",
      "_________________________________________________________________\n"
     ]
    }
   ],
   "source": [
    "model_2.summary()"
   ]
  },
  {
   "cell_type": "code",
   "execution_count": 21,
   "metadata": {},
   "outputs": [
    {
     "name": "stdout",
     "output_type": "stream",
     "text": [
      "Train on 60000 samples, validate on 10000 samples\n",
      "Epoch 1/20\n",
      "60000/60000 [==============================] - 22s 361us/step - loss: 0.3281 - acc: 0.8994 - val_loss: 0.1285 - val_acc: 0.9597\n",
      "Epoch 2/20\n",
      "60000/60000 [==============================] - 20s 326us/step - loss: 0.1507 - acc: 0.9559 - val_loss: 0.0972 - val_acc: 0.9701\n",
      "Epoch 3/20\n",
      "60000/60000 [==============================] - 18s 304us/step - loss: 0.1176 - acc: 0.9651 - val_loss: 0.0891 - val_acc: 0.9742\n",
      "Epoch 4/20\n",
      "60000/60000 [==============================] - 17s 290us/step - loss: 0.1001 - acc: 0.9711 - val_loss: 0.0783 - val_acc: 0.9776\n",
      "Epoch 5/20\n",
      "60000/60000 [==============================] - 17s 290us/step - loss: 0.0909 - acc: 0.9739 - val_loss: 0.0829 - val_acc: 0.9787\n",
      "Epoch 6/20\n",
      "60000/60000 [==============================] - 19s 322us/step - loss: 0.0830 - acc: 0.9760 - val_loss: 0.0798 - val_acc: 0.9792\n",
      "Epoch 7/20\n",
      "60000/60000 [==============================] - 19s 314us/step - loss: 0.0787 - acc: 0.9782 - val_loss: 0.0830 - val_acc: 0.9786\n",
      "Epoch 8/20\n",
      "60000/60000 [==============================] - 25s 425us/step - loss: 0.0731 - acc: 0.9791 - val_loss: 0.0818 - val_acc: 0.9813\n",
      "Epoch 9/20\n",
      "60000/60000 [==============================] - 18s 306us/step - loss: 0.0694 - acc: 0.9809 - val_loss: 0.0825 - val_acc: 0.9805\n",
      "Epoch 10/20\n",
      "60000/60000 [==============================] - 18s 308us/step - loss: 0.0669 - acc: 0.9817 - val_loss: 0.0859 - val_acc: 0.9804\n",
      "Epoch 11/20\n",
      "60000/60000 [==============================] - 21s 347us/step - loss: 0.0644 - acc: 0.9832 - val_loss: 0.0817 - val_acc: 0.9831\n",
      "Epoch 12/20\n",
      "60000/60000 [==============================] - 17s 283us/step - loss: 0.0608 - acc: 0.9833 - val_loss: 0.0887 - val_acc: 0.9811\n",
      "Epoch 13/20\n",
      "60000/60000 [==============================] - 18s 303us/step - loss: 0.0619 - acc: 0.9836 - val_loss: 0.0794 - val_acc: 0.9823\n",
      "Epoch 14/20\n",
      "60000/60000 [==============================] - 21s 343us/step - loss: 0.0558 - acc: 0.9847 - val_loss: 0.0888 - val_acc: 0.9821\n",
      "Epoch 15/20\n",
      "60000/60000 [==============================] - 17s 291us/step - loss: 0.0581 - acc: 0.9849 - val_loss: 0.0866 - val_acc: 0.9833\n",
      "Epoch 16/20\n",
      "60000/60000 [==============================] - 20s 328us/step - loss: 0.0516 - acc: 0.9863 - val_loss: 0.0972 - val_acc: 0.9823\n",
      "Epoch 17/20\n",
      "60000/60000 [==============================] - 18s 295us/step - loss: 0.0551 - acc: 0.9863 - val_loss: 0.0911 - val_acc: 0.9827\n",
      "Epoch 18/20\n",
      "60000/60000 [==============================] - 20s 333us/step - loss: 0.0537 - acc: 0.9866 - val_loss: 0.0976 - val_acc: 0.9812\n",
      "Epoch 19/20\n",
      "60000/60000 [==============================] - 19s 309us/step - loss: 0.0536 - acc: 0.9867 - val_loss: 0.1009 - val_acc: 0.9817\n",
      "Epoch 20/20\n",
      "60000/60000 [==============================] - 19s 323us/step - loss: 0.0499 - acc: 0.9870 - val_loss: 0.1017 - val_acc: 0.9827\n"
     ]
    }
   ],
   "source": [
    "\n",
    "history = model_2.fit(\n",
    "    x_train, y_train,\n",
    "    batch_size=batch_size,\n",
    "    epochs=epochs,\n",
    "    verbose=1,\n",
    "    validation_data=(x_test, y_test))"
   ]
  },
  {
   "cell_type": "code",
   "execution_count": 22,
   "metadata": {},
   "outputs": [
    {
     "name": "stdout",
     "output_type": "stream",
     "text": [
      "Test loss: 0.10171181259335703\n",
      "Test accuracy: 0.9827\n"
     ]
    }
   ],
   "source": [
    "## We will use Keras evaluate function to evaluate performance on the test set\n",
    "\n",
    "score = model_2.evaluate(x_test, y_test, verbose=0)\n",
    "print('Test loss:', score[0])\n",
    "print('Test accuracy:', score[1])"
   ]
  },
  {
   "cell_type": "code",
   "execution_count": 23,
   "metadata": {},
   "outputs": [
    {
     "data": {
      "image/png": "[encoded data removed]",
      "text/plain": [
       "<Figure size 864x432 with 2 Axes>"
      ]
     },
     "metadata": {
      "needs_background": "light"
     },
     "output_type": "display_data"
    }
   ],
   "source": [
    "plot_loss_accuracy(history)"
   ]
  },
  {
   "cell_type": "markdown",
   "metadata": {
    "collapsed": true
   },
   "source": [
    "## Think about the following questions\n",
    "\n",
    "1) How do model_1 and model_2 compare?  Which do you prefer?  If you were going to put one into production, which would you choose and why?\n",
    "\n",
    "2) Compare the trajectories of the loss function on the training set and test set for each model?  How do they compare?  What does that suggest about each model?  Do the same for accuracy?  Which do you think is more meaningful, the loss or the accuracy?\n",
    "\n",
    "3) Suggest an improvement to one of the models (changing structure, learning rate, number of epochs, etc.) that you think will result in a better model.  Try it out below?  Did it improve the performance?"
   ]
  },
  {
   "cell_type": "markdown",
   "metadata": {
    "collapsed": true
   },
   "source": [
    "## Question 1\n",
    "\n",
    "Model 2 is a better model as it improves test accuracy by 0.0076 . I would choose model 1 for production because it's a simpler model as model 2 has about 8x more parameters which may not justify the small increase in performance. If speed and computational efficiency is important under production environment then a simpler model might be more beneficial. "
   ]
  },
  {
   "cell_type": "markdown",
   "metadata": {
    "collapsed": true
   },
   "source": [
    "## Question 2\n",
    "\n",
    "We can observe that the trajectory of the loss function decreses almost monotonically for both models on the training set but on the test set we see that after a certain iteration the loss increases for model 2. This can be an idication of overfitting for model 2.\n",
    "\n",
    "We see a similar story for accuracy where it increases monotically on the training set but the test set suggests overfitting for model 2.\n",
    "\n",
    "Loss is more general than accuracy since by chance we can 100% predict labels for a set of data points. However, the loss function better measures the ability for forecasting how well our model will perform. We can argue that the loss function is more meaningful sense it has a more general indication of how well our model will perform on truly new data points."
   ]
  },
  {
   "cell_type": "markdown",
   "metadata": {},
   "source": [
    "## Question 3\n",
    "\n",
    "One simple hypothesis is to increase the number of epochs to see if more iterations will further improve performance and slightly increase learning rate to see if that helps optimize the loss function. \n",
    "\n",
    "Another idea is to change the architecture to a CNN since we are dealing with image data and CNN takes advantage of spacial locality of pixels.\n"
   ]
  },
  {
   "cell_type": "code",
   "execution_count": 41,
   "metadata": {},
   "outputs": [
    {
     "name": "stdout",
     "output_type": "stream",
     "text": [
      "Train on 60000 samples, validate on 10000 samples\n",
      "Epoch 1/30\n",
      "60000/60000 [==============================] - 21s 358us/step - loss: 0.3084 - acc: 0.9046 - val_loss: 0.1155 - val_acc: 0.9658\n",
      "Epoch 2/30\n",
      "60000/60000 [==============================] - 21s 358us/step - loss: 0.1594 - acc: 0.9546 - val_loss: 0.0946 - val_acc: 0.9730\n",
      "Epoch 3/30\n",
      "60000/60000 [==============================] - 18s 305us/step - loss: 0.1322 - acc: 0.9634 - val_loss: 0.0921 - val_acc: 0.9745\n",
      "Epoch 4/30\n",
      "60000/60000 [==============================] - 18s 294us/step - loss: 0.1194 - acc: 0.9679 - val_loss: 0.0966 - val_acc: 0.9765\n",
      "Epoch 5/30\n",
      "60000/60000 [==============================] - 17s 291us/step - loss: 0.1174 - acc: 0.9699 - val_loss: 0.0939 - val_acc: 0.9787\n",
      "Epoch 6/30\n",
      "60000/60000 [==============================] - 18s 293us/step - loss: 0.1084 - acc: 0.9717 - val_loss: 0.0945 - val_acc: 0.9792\n",
      "Epoch 7/30\n",
      "60000/60000 [==============================] - 18s 308us/step - loss: 0.1075 - acc: 0.9738 - val_loss: 0.1058 - val_acc: 0.9783\n",
      "Epoch 8/30\n",
      "60000/60000 [==============================] - 23s 385us/step - loss: 0.1049 - acc: 0.9737 - val_loss: 0.0896 - val_acc: 0.9803\n",
      "Epoch 9/30\n",
      "60000/60000 [==============================] - 18s 295us/step - loss: 0.1020 - acc: 0.9751 - val_loss: 0.1040 - val_acc: 0.9786\n",
      "Epoch 10/30\n",
      "60000/60000 [==============================] - 21s 351us/step - loss: 0.0993 - acc: 0.9766 - val_loss: 0.0914 - val_acc: 0.9830\n",
      "Epoch 11/30\n",
      "60000/60000 [==============================] - 20s 328us/step - loss: 0.0960 - acc: 0.9780 - val_loss: 0.1006 - val_acc: 0.9798\n",
      "Epoch 12/30\n",
      "60000/60000 [==============================] - 19s 325us/step - loss: 0.0975 - acc: 0.9782 - val_loss: 0.1051 - val_acc: 0.9798\n",
      "Epoch 13/30\n",
      "60000/60000 [==============================] - 18s 306us/step - loss: 0.1019 - acc: 0.9772 - val_loss: 0.1222 - val_acc: 0.9791\n",
      "Epoch 14/30\n",
      "60000/60000 [==============================] - 18s 305us/step - loss: 0.1010 - acc: 0.9781 - val_loss: 0.1150 - val_acc: 0.9811\n",
      "Epoch 15/30\n",
      "60000/60000 [==============================] - 18s 305us/step - loss: 0.1033 - acc: 0.9785 - val_loss: 0.1061 - val_acc: 0.9813\n",
      "Epoch 16/30\n",
      "60000/60000 [==============================] - 19s 315us/step - loss: 0.1010 - acc: 0.9788 - val_loss: 0.1056 - val_acc: 0.9819\n",
      "Epoch 17/30\n",
      "60000/60000 [==============================] - 19s 317us/step - loss: 0.1005 - acc: 0.9797 - val_loss: 0.1069 - val_acc: 0.9815\n",
      "Epoch 18/30\n",
      "60000/60000 [==============================] - 18s 308us/step - loss: 0.1003 - acc: 0.9797 - val_loss: 0.1209 - val_acc: 0.9803\n",
      "Epoch 19/30\n",
      "60000/60000 [==============================] - 18s 308us/step - loss: 0.0969 - acc: 0.9807 - val_loss: 0.1376 - val_acc: 0.9813\n",
      "Epoch 20/30\n",
      "60000/60000 [==============================] - 20s 336us/step - loss: 0.0999 - acc: 0.9808 - val_loss: 0.1244 - val_acc: 0.9813\n",
      "Epoch 21/30\n",
      "60000/60000 [==============================] - 20s 334us/step - loss: 0.0977 - acc: 0.9819 - val_loss: 0.1163 - val_acc: 0.9826\n",
      "Epoch 22/30\n",
      "60000/60000 [==============================] - 19s 319us/step - loss: 0.0977 - acc: 0.9816 - val_loss: 0.1254 - val_acc: 0.9816\n",
      "Epoch 23/30\n",
      "60000/60000 [==============================] - 20s 326us/step - loss: 0.1048 - acc: 0.9807 - val_loss: 0.1262 - val_acc: 0.9806\n",
      "Epoch 24/30\n",
      "60000/60000 [==============================] - 18s 298us/step - loss: 0.0974 - acc: 0.9820 - val_loss: 0.1188 - val_acc: 0.9814\n",
      "Epoch 25/30\n",
      "60000/60000 [==============================] - 18s 296us/step - loss: 0.0957 - acc: 0.9823 - val_loss: 0.1336 - val_acc: 0.9822\n",
      "Epoch 26/30\n",
      "60000/60000 [==============================] - 18s 300us/step - loss: 0.0984 - acc: 0.9820 - val_loss: 0.1204 - val_acc: 0.9826\n",
      "Epoch 27/30\n",
      "60000/60000 [==============================] - 18s 298us/step - loss: 0.1054 - acc: 0.9815 - val_loss: 0.1276 - val_acc: 0.9828\n",
      "Epoch 28/30\n",
      "60000/60000 [==============================] - 18s 298us/step - loss: 0.1029 - acc: 0.9820 - val_loss: 0.1337 - val_acc: 0.9804\n",
      "Epoch 29/30\n",
      "60000/60000 [==============================] - 18s 298us/step - loss: 0.1037 - acc: 0.9825 - val_loss: 0.1385 - val_acc: 0.9813\n",
      "Epoch 30/30\n",
      "60000/60000 [==============================] - 18s 302us/step - loss: 0.1022 - acc: 0.9824 - val_loss: 0.1290 - val_acc: 0.9819\n"
     ]
    }
   ],
   "source": [
    "## Question 3\n",
    "\n",
    "### Build your model here\n",
    "\n",
    "# We will build a model with two hidden layers of size 400 and 300\n",
    "# Fully connected inputs at each layer\n",
    "# We will use dropout of .2 to help regularize\n",
    "# Let's compile the model\n",
    "learning_rate = .002\n",
    "batch_size = 128  # mini-batch with 128 examples\n",
    "epochs = 30\n",
    "\n",
    "model_3 = Sequential()\n",
    "model_3.add(Dense(400, activation='relu', input_shape=(784,)))\n",
    "model_3.add(Dropout(0.4))\n",
    "model_3.add(Dense(300, activation='relu'))\n",
    "model_3.add(Dropout(0.4))\n",
    "model_3.add(Dense(10, activation='softmax'))\n",
    "\n",
    "\n",
    "model_3.compile(loss='categorical_crossentropy',\n",
    "              optimizer=RMSprop(lr=learning_rate),\n",
    "              metrics=['accuracy'])\n",
    "\n",
    "history = model_3.fit(\n",
    "    x_train, y_train,\n",
    "    batch_size=batch_size,\n",
    "    epochs=epochs,\n",
    "    verbose=1,\n",
    "    validation_data=(x_test, y_test))"
   ]
  },
  {
   "cell_type": "code",
   "execution_count": 42,
   "metadata": {},
   "outputs": [
    {
     "name": "stdout",
     "output_type": "stream",
     "text": [
      "Test loss: 0.1289933815142205\n",
      "Test accuracy: 0.9819\n"
     ]
    }
   ],
   "source": [
    "## We will use Keras evaluate function to evaluate performance on the test set\n",
    "\n",
    "score = model_3.evaluate(x_test, y_test, verbose=0)\n",
    "print('Test loss:', score[0])\n",
    "print('Test accuracy:', score[1])"
   ]
  },
  {
   "cell_type": "code",
   "execution_count": 43,
   "metadata": {},
   "outputs": [
    {
     "data": {
      "image/png": "[encoded data removed]",
      "text/plain": [
       "<Figure size 864x432 with 2 Axes>"
      ]
     },
     "metadata": {
      "needs_background": "light"
     },
     "output_type": "display_data"
    }
   ],
   "source": [
    "plot_loss_accuracy(history)"
   ]
  },
  {
   "cell_type": "markdown",
   "metadata": {},
   "source": [
    "Our new proposed model did not improve performance, in fact it slightly decreases accuracy and increased the loss. This can be attributed to the fact the learning rate might have been to aggressively increased."
   ]
  },
  {
   "cell_type": "code",
   "execution_count": null,
   "metadata": {},
   "outputs": [],
   "source": []
  }
 ],
 "metadata": {
  "kernelspec": {
   "display_name": "Python 3",
   "language": "python",
   "name": "python3"
  },
  "language_info": {
   "codemirror_mode": {
    "name": "ipython",
    "version": 3
   },
   "file_extension": ".py",
   "mimetype": "text/x-python",
   "name": "python",
   "nbconvert_exporter": "python",
   "pygments_lexer": "ipython3",
   "version": "3.7.1"
  }
 },
 "nbformat": 4,
 "nbformat_minor": 1
}
